{
 "cells": [
  {
   "cell_type": "code",
   "execution_count": 65,
   "metadata": {},
   "outputs": [],
   "source": [
    "import numpy as np\n",
    "from numpy import linalg\n",
    "import matplotlib.pyplot as plt\n",
    "import pandas as pd\n",
    "import cvxopt\n",
    "import cvxopt.solvers"
   ]
  },
  {
   "cell_type": "code",
   "execution_count": 75,
   "metadata": {},
   "outputs": [],
   "source": [
    "data=pd.read_csv('2017EE30149.csv', header=None)\n",
    "data=np.array(data)\n",
    "n=3000\n",
    "m=25\n",
    "x1=data[0:n,0:25]\n",
    "t1=data[0:n,25]"
   ]
  },
  {
   "cell_type": "code",
   "execution_count": 76,
   "metadata": {},
   "outputs": [],
   "source": [
    "class1=5\n",
    "class2=6\n",
    "x=np.reshape([],(0,m))\n",
    "t=[]\n",
    "for i in range(n):\n",
    "    if t1[i]==class1:\n",
    "        x=np.concatenate((x,x1[i:i+1]),axis=0)\n",
    "        t.append(1)\n",
    "    if t1[i]==class2:\n",
    "        x=np.concatenate((x,x1[i:i+1]),axis=0)\n",
    "        t.append(-1)\n",
    "        \n",
    "n=len(t)"
   ]
  },
  {
   "cell_type": "code",
   "execution_count": 77,
   "metadata": {},
   "outputs": [],
   "source": [
    "def kernelL(x1,x2):\n",
    "    return np.dot(x1,x2)"
   ]
  },
  {
   "cell_type": "code",
   "execution_count": 78,
   "metadata": {},
   "outputs": [],
   "source": [
    "def kernelR(x1,x2,gm):\n",
    "    return np.exp((-linalg.norm(x1-x2)**2)*(gm))"
   ]
  },
  {
   "cell_type": "code",
   "execution_count": 71,
   "metadata": {},
   "outputs": [],
   "source": [
    "def accuracy(y_pred,t_test):\n",
    "    a=0\n",
    "    k=len(t_test)\n",
    "    for i in range(k):\n",
    "        if y_pred[i]==t_test[i]:\n",
    "            a=a+1\n",
    "    return a/k"
   ]
  },
  {
   "cell_type": "code",
   "execution_count": 25,
   "metadata": {},
   "outputs": [],
   "source": [
    "def crossScoreR(folds,c,gm):\n",
    "    b=n//folds\n",
    "    ac=0\n",
    "    y=[]\n",
    "    y1=[]\n",
    "    f=0\n",
    "    for i in range(folds):\n",
    "        temp=np.array(x[f:f+b,0:m])\n",
    "        temp1=np.array(t[f:f+b])\n",
    "        f=f+b\n",
    "        y.append(temp)\n",
    "        y1.append(temp1)\n",
    "    \n",
    "    for i in range(folds):\n",
    "        x_test=y[i]\n",
    "        t_test=y1[i]\n",
    "        x_train=np.reshape([],(0,m))\n",
    "        t_train=[]\n",
    "        \n",
    "        for j in range(folds):\n",
    "            if i!=j:\n",
    "                x_train=np.concatenate((x_train,y[j]),axis=0)\n",
    "                t_train=np.concatenate((t_train,y1[j]),axis=0)\n",
    "             \n",
    "\n",
    "        ac+=cvxR(x_train,t_train,c,gm)\n",
    "    \n",
    "    return ac/folds"
   ]
  },
  {
   "cell_type": "code",
   "execution_count": 30,
   "metadata": {},
   "outputs": [],
   "source": [
    "def crossScoreL(folds,c):\n",
    "    b=n//folds\n",
    "    ac=0\n",
    "    y=[]\n",
    "    y1=[]\n",
    "    f=0\n",
    "    for i in range(folds):\n",
    "        temp=np.array(x[f:f+b,0:m])\n",
    "        temp1=np.array(t[f:f+b])\n",
    "        f=f+b\n",
    "        y.append(temp)\n",
    "        y1.append(temp1)\n",
    "    \n",
    "    for i in range(folds):\n",
    "        x_test=y[i]\n",
    "        t_test=y1[i]\n",
    "        x_train=np.reshape([],(0,m))\n",
    "        t_train=[]\n",
    "        \n",
    "        for j in range(folds):\n",
    "            if i!=j:\n",
    "                x_train=np.concatenate((x_train,y[j]),axis=0)\n",
    "                t_train=np.concatenate((t_train,y1[j]),axis=0)\n",
    "             \n",
    "\n",
    "        ac+=cvxL(x_train,t_train,c)\n",
    "    \n",
    "    return ac/folds"
   ]
  },
  {
   "cell_type": "code",
   "execution_count": 31,
   "metadata": {},
   "outputs": [
    {
     "name": "stdout",
     "output_type": "stream",
     "text": [
      "     pcost       dcost       gap    pres   dres\n",
      " 0: -1.3228e+01 -7.1276e+01  2e+03  2e+01  2e-14\n",
      " 1: -2.3684e+00 -6.3634e+01  1e+02  8e-01  2e-14\n",
      " 2: -1.0472e+00 -2.0813e+01  3e+01  1e-01  5e-15\n",
      " 3: -3.6132e-01 -7.1850e+00  1e+01  4e-02  2e-15\n",
      " 4: -1.5274e-01 -1.2527e+00  1e+00  5e-03  1e-15\n",
      " 5: -1.8341e-01 -5.9739e-01  5e-01  1e-03  8e-16\n",
      " 6: -2.3376e-01 -3.8048e-01  2e-01  2e-04  8e-16\n",
      " 7: -2.6065e-01 -3.1146e-01  5e-02  4e-05  8e-16\n",
      " 8: -2.6712e-01 -2.9857e-01  3e-02  8e-06  8e-16\n",
      " 9: -2.7909e-01 -2.8184e-01  3e-03  6e-07  9e-16\n",
      "10: -2.8024e-01 -2.8029e-01  5e-05  1e-08  1e-15\n",
      "11: -2.8026e-01 -2.8026e-01  7e-07  1e-10  9e-16\n",
      "12: -2.8026e-01 -2.8026e-01  7e-09  1e-12  9e-16\n",
      "Optimal solution found.\n",
      "     pcost       dcost       gap    pres   dres\n",
      " 0: -1.3054e+01 -7.1261e+01  2e+03  2e+01  3e-14\n",
      " 1: -2.3526e+00 -6.3629e+01  1e+02  9e-01  2e-14\n",
      " 2: -1.0333e+00 -2.0871e+01  3e+01  1e-01  5e-15\n",
      " 3: -3.6910e-01 -5.8942e+00  8e+00  3e-02  2e-15\n",
      " 4: -1.9388e-01 -1.0835e+00  1e+00  4e-03  1e-15\n",
      " 5: -2.3303e-01 -5.8103e-01  4e-01  1e-03  9e-16\n",
      " 6: -2.7174e-01 -3.8411e-01  1e-01  1e-04  9e-16\n",
      " 7: -2.9761e-01 -3.3082e-01  3e-02  2e-05  9e-16\n",
      " 8: -3.0967e-01 -3.1167e-01  2e-03  2e-16  1e-15\n",
      " 9: -3.1060e-01 -3.1064e-01  4e-05  2e-16  1e-15\n",
      "10: -3.1061e-01 -3.1061e-01  6e-07  2e-16  1e-15\n",
      "11: -3.1061e-01 -3.1061e-01  9e-09  2e-16  1e-15\n",
      "Optimal solution found.\n",
      "     pcost       dcost       gap    pres   dres\n",
      " 0: -1.3510e+01 -6.5280e+01  2e+03  2e+01  3e-14\n",
      " 1: -2.5641e+00 -5.7772e+01  1e+02  9e-01  2e-14\n",
      " 2: -1.1466e+00 -1.9925e+01  3e+01  1e-01  5e-15\n",
      " 3: -4.7587e-01 -6.8823e+00  9e+00  5e-02  2e-15\n",
      " 4: -1.9788e-01 -1.7354e+00  2e+00  8e-03  1e-15\n",
      " 5: -2.0508e-01 -7.0258e-01  6e-01  2e-03  1e-15\n",
      " 6: -2.2523e-01 -3.6134e-01  1e-01  6e-05  1e-15\n",
      " 7: -2.6543e-01 -2.8787e-01  2e-02  2e-16  1e-15\n",
      " 8: -2.7444e-01 -2.7498e-01  5e-04  2e-16  1e-15\n",
      " 9: -2.7467e-01 -2.7468e-01  9e-06  2e-16  1e-15\n",
      "10: -2.7468e-01 -2.7468e-01  9e-08  2e-16  1e-15\n",
      "Optimal solution found.\n",
      "     pcost       dcost       gap    pres   dres\n",
      " 0: -1.3608e+01 -7.0396e+01  2e+03  2e+01  2e-14\n",
      " 1: -2.4648e+00 -6.2785e+01  1e+02  8e-01  2e-14\n",
      " 2: -1.1417e+00 -2.1181e+01  3e+01  1e-01  5e-15\n",
      " 3: -4.7634e-01 -6.4156e+00  9e+00  4e-02  2e-15\n",
      " 4: -1.8390e-01 -1.5910e+00  2e+00  7e-03  1e-15\n",
      " 5: -2.0237e-01 -6.6187e-01  5e-01  2e-03  9e-16\n",
      " 6: -2.1242e-01 -5.1360e-01  3e-01  8e-04  8e-16\n",
      " 7: -2.6163e-01 -3.1221e-01  5e-02  2e-16  1e-15\n",
      " 8: -2.7739e-01 -2.8870e-01  1e-02  2e-16  1e-15\n",
      " 9: -2.8182e-01 -2.8233e-01  5e-04  2e-16  1e-15\n",
      "10: -2.8206e-01 -2.8207e-01  1e-05  2e-16  1e-15\n",
      "11: -2.8206e-01 -2.8206e-01  1e-07  2e-16  1e-15\n",
      "Optimal solution found.\n"
     ]
    },
    {
     "data": {
      "text/plain": [
       "1.0"
      ]
     },
     "execution_count": 31,
     "metadata": {},
     "output_type": "execute_result"
    }
   ],
   "source": [
    "crossScoreL(4,0.1)"
   ]
  },
  {
   "cell_type": "code",
   "execution_count": 73,
   "metadata": {},
   "outputs": [],
   "source": [
    "def cvxR(xTrain,tTrain,C,gm):\n",
    "    n=len(xTrain)\n",
    "    K=np.zeros((n,n))\n",
    "    for i in range(n):\n",
    "        for j in range(n):\n",
    "    #         K[i,j]=kernelL(x[i],x[j])\n",
    "            K[i,j]=kernelR(xTrain[i],xTrain[j],gm)\n",
    "        \n",
    "    P=cvxopt.matrix(np.outer(tTrain,tTrain)*K) #K is kernel matrix\n",
    "    q=cvxopt.matrix(np.ones(n)*(-1))\n",
    "    A=cvxopt.matrix(tTrain,(1,n),tc='d')\n",
    "    b=cvxopt.matrix(0, tc='d')\n",
    "    G=cvxopt.matrix(np.vstack((np.diag(np.ones(n)*(-1)),np.identity(n))))\n",
    "    h=cvxopt.matrix(np.hstack((np.zeros(n),np.ones(n)*C)))   \n",
    "    solution=cvxopt.solvers.qp(P,q,G,h,A,b)\n",
    "    a=np.ravel(solution['x']) #Lagrange Multipliers\n",
    "    sv=a > 1e-5 #Support Vectors\n",
    "    sv_a=a[sv]\n",
    "    sv_x=xTrain[sv]\n",
    "    tTrain=np.array(tTrain,dtype=int)\n",
    "    sv_t=tTrain[sv]\n",
    "    sv_index=np.arange(len(a))[sv]\n",
    "    print(len(sv_index))\n",
    "    print(sv_index)\n",
    "    plt.scatter(range(len(sv_index)),sv_index)\n",
    "    intercept=0\n",
    "    for i in range(len(sv_a)):\n",
    "        intercept+=sv_t[i]\n",
    "        temp=0\n",
    "        for j in range(len(sv_a)):\n",
    "            temp+=sv_t[j]*sv_a[j]*K[sv_index[i],sv_index[j]]\n",
    "        intercept-=temp \n",
    "    intercept/=len(sv_a)\n",
    "    print(intercept)\n",
    "    y_pred=np.zeros(len(xTrain))\n",
    "    for i in range(len(xTrain)):\n",
    "        s=0\n",
    "        for j in range(len(sv_a)):\n",
    "            s+=sv_a[j]*sv_t[j]*K[i,sv_index[j]]\n",
    "        y_pred[i]=s\n",
    "    y_pred+=intercept\n",
    "    y_pred=np.sign(y_pred) #Prediction on given data set\n",
    "    return accuracy(y_pred,tTrain)"
   ]
  },
  {
   "cell_type": "code",
   "execution_count": 74,
   "metadata": {},
   "outputs": [
    {
     "name": "stdout",
     "output_type": "stream",
     "text": [
      "     pcost       dcost       gap    pres   dres\n",
      " 0: -5.8895e+01 -9.3274e+02  3e+03  2e+00  6e-16\n",
      " 1: -4.4457e+01 -4.7761e+02  5e+02  5e-02  7e-16\n",
      " 2: -6.1507e+01 -1.2394e+02  6e+01  6e-03  6e-16\n",
      " 3: -6.8212e+01 -7.9934e+01  1e+01  9e-04  5e-16\n",
      " 4: -7.0124e+01 -7.2040e+01  2e+00  6e-05  5e-16\n",
      " 5: -7.0529e+01 -7.0836e+01  3e-01  8e-06  5e-16\n",
      " 6: -7.0613e+01 -7.0638e+01  3e-02  5e-07  5e-16\n",
      " 7: -7.0621e+01 -7.0622e+01  1e-03  2e-08  5e-16\n",
      " 8: -7.0622e+01 -7.0622e+01  5e-05  4e-10  5e-16\n",
      "Optimal solution found.\n",
      "373\n",
      "[  2   3   8   9  10  12  13  15  16  17  18  19  21  22  23  25  26  27\n",
      "  28  31  33  34  35  37  38  42  46  47  48  50  52  53  57  58  59  61\n",
      "  64  65  66  68  69  70  71  72  73  74  77  78  79  80  81  82  84  85\n",
      "  86  88  89  92  93  94  95  96  97  98 100 102 103 104 106 108 109 110\n",
      " 113 114 118 119 122 123 125 126 127 133 134 136 137 139 140 142 143 145\n",
      " 147 151 157 158 159 161 162 163 164 165 166 167 168 170 171 172 173 174\n",
      " 175 176 177 178 181 182 185 187 188 189 193 194 195 197 198 201 202 203\n",
      " 204 205 207 208 209 210 211 213 214 216 217 220 221 223 225 226 227 228\n",
      " 229 230 231 234 236 237 238 239 240 241 243 244 245 247 250 251 252 254\n",
      " 255 256 257 259 260 262 263 264 265 266 268 269 270 271 274 277 278 279\n",
      " 282 283 286 289 290 291 294 295 296 299 303 304 307 311 312 313 315 316\n",
      " 317 319 321 323 324 325 326 329 331 333 335 336 341 342 344 346 347 349\n",
      " 350 351 353 355 356 360 361 363 364 365 366 367 368 369 371 372 373 374\n",
      " 377 379 382 383 384 385 386 387 388 389 390 391 392 393 395 397 399 400\n",
      " 401 402 405 406 407 408 410 413 415 416 417 418 419 420 421 422 425 426\n",
      " 427 428 433 434 435 438 439 441 444 448 450 451 453 454 457 458 459 460\n",
      " 462 463 464 466 467 468 469 470 471 473 474 476 480 482 483 486 487 488\n",
      " 490 492 493 494 495 497 498 499 501 502 503 504 506 507 508 510 511 512\n",
      " 513 516 517 518 519 521 523 524 525 527 530 531 536 538 539 541 543 544\n",
      " 545 546 547 549 552 553 554 556 557 560 562 563 564 565 566 567 568 572\n",
      " 573 574 575 577 580 582 585 586 587 588 591 592 599]\n",
      "0.16663496948040118\n"
     ]
    },
    {
     "data": {
      "text/plain": [
       "1.0"
      ]
     },
     "execution_count": 74,
     "metadata": {},
     "output_type": "execute_result"
    },
    {
     "data": {
      "image/png": "[encoded data removed]",
      "text/plain": [
       "<Figure size 432x288 with 1 Axes>"
      ]
     },
     "metadata": {
      "needs_background": "light"
     },
     "output_type": "display_data"
    }
   ],
   "source": [
    "cvxR(x,t,0.99,0.09)"
   ]
  },
  {
   "cell_type": "code",
   "execution_count": 80,
   "metadata": {},
   "outputs": [],
   "source": [
    "def cvxL(xTrain,tTrain,C):\n",
    "    n=len(xTrain)\n",
    "    K=np.zeros((n,n))\n",
    "    for i in range(n):\n",
    "        for j in range(n):\n",
    "            K[i,j]=kernelL(xTrain[i],xTrain[j])\n",
    "#             K[i,j]=kernelR(xTrain[i],xTrain[j],gm)\n",
    "        \n",
    "    P=cvxopt.matrix(np.outer(tTrain,tTrain)*K) #K is kernel matrix\n",
    "    q=cvxopt.matrix(np.ones(n)*(-1))\n",
    "    A=cvxopt.matrix(tTrain,(1,n),tc='d')\n",
    "    b=cvxopt.matrix(0, tc='d')\n",
    "    G=cvxopt.matrix(np.vstack((np.diag(np.ones(n)*(-1)),np.identity(n))))\n",
    "    h=cvxopt.matrix(np.hstack((np.zeros(n),np.ones(n)*C)))   \n",
    "    solution=cvxopt.solvers.qp(P,q,G,h,A,b)\n",
    "    a=np.ravel(solution['x']) #Lagrange Multipliers\n",
    "    sv=a > 1e-5 #Support Vectors\n",
    "    sv_a=a[sv]\n",
    "    sv_x=xTrain[sv]\n",
    "    tTrain=np.array(tTrain,dtype=int)\n",
    "    sv_t=tTrain[sv]\n",
    "    sv_index=np.arange(len(a))[sv]\n",
    "    print(len(sv_index))\n",
    "    print(sv_index)\n",
    "    intercept=0\n",
    "    for i in range(len(sv_a)):\n",
    "        intercept+=sv_t[i]\n",
    "        temp=0\n",
    "        for j in range(len(sv_a)):\n",
    "            temp+=sv_t[j]*sv_a[j]*K[sv_index[i],sv_index[j]]\n",
    "        intercept-=temp \n",
    "    intercept/=len(sv_a)\n",
    "    print(intercept)\n",
    "    y_pred=np.zeros(len(xTrain))\n",
    "    for i in range(len(xTrain)):\n",
    "        s=0\n",
    "        for j in range(len(sv_a)):\n",
    "            s+=sv_a[j]*sv_t[j]*K[i,sv_index[j]]\n",
    "        y_pred[i]=s\n",
    "    y_pred+=intercept\n",
    "    y_pred=np.sign(y_pred) #Prediction on given data set\n",
    "    return accuracy(y_pred,tTrain)"
   ]
  },
  {
   "cell_type": "code",
   "execution_count": 81,
   "metadata": {},
   "outputs": [
    {
     "name": "stdout",
     "output_type": "stream",
     "text": [
      "     pcost       dcost       gap    pres   dres\n",
      " 0: -7.0936e+01 -1.1656e+02  4e+03  3e+01  4e-14\n",
      " 1: -1.2367e+01 -1.0717e+02  3e+02  1e+00  4e-14\n",
      " 2: -7.8079e+00 -4.7819e+01  6e+01  2e-01  8e-15\n",
      " 3: -5.6460e+00 -1.8158e+01  2e+01  5e-02  4e-15\n",
      " 4: -5.2934e+00 -8.4791e+00  4e+00  1e-02  3e-15\n",
      " 5: -5.4980e+00 -6.7262e+00  1e+00  3e-03  3e-15\n",
      " 6: -5.6232e+00 -6.1808e+00  6e-01  1e-03  3e-15\n",
      " 7: -5.7328e+00 -5.8700e+00  2e-01  2e-04  4e-15\n",
      " 8: -5.7725e+00 -5.7817e+00  1e-02  9e-06  4e-15\n",
      " 9: -5.7760e+00 -5.7763e+00  3e-04  3e-07  4e-15\n",
      "10: -5.7761e+00 -5.7761e+00  3e-06  3e-09  4e-15\n",
      "Optimal solution found.\n",
      "79\n",
      "[ 17  23  27  33  47  58  66  71  79  85  86  88  92  97 102 118 123 126\n",
      " 127 158 162 166 174 182 195 203 209 217 227 229 241 243 251 252 263 266\n",
      " 271 279 283 290 303 309 324 342 344 351 353 355 372 379 383 385 388 390\n",
      " 393 406 413 416 428 435 438 439 453 460 495 498 504 510 543 564 565 567\n",
      " 568 576 577 582 591 592 599]\n",
      "1.710445096164121\n"
     ]
    },
    {
     "data": {
      "text/plain": [
       "0.97"
      ]
     },
     "execution_count": 81,
     "metadata": {},
     "output_type": "execute_result"
    }
   ],
   "source": [
    "cvxL(x,t,0.1)"
   ]
  },
  {
   "cell_type": "code",
   "execution_count": 6,
   "metadata": {},
   "outputs": [],
   "source": [
    "C=0.944\n",
    "gm=0.09\n",
    "K=np.zeros((n,n))\n",
    "for i in range(n):\n",
    "    for j in range(n):\n",
    "#         K[i,j]=kernelL(x[i],x[j])\n",
    "        K[i,j]=kernelR(x[i],x[j],gm)\n",
    "        \n",
    "P=cvxopt.matrix(np.outer(t,t)*K) #K is kernel matrix\n",
    "q=cvxopt.matrix(np.ones(n)*(-1))\n",
    "A=cvxopt.matrix(t,(1,n),tc='d')\n",
    "b=cvxopt.matrix(0, tc='d')\n",
    "G=cvxopt.matrix(np.vstack((np.diag(np.ones(n)*(-1)),np.identity(n))))\n",
    "h=cvxopt.matrix(np.hstack((np.zeros(n),np.ones(n)*C)))"
   ]
  },
  {
   "cell_type": "code",
   "execution_count": 7,
   "metadata": {},
   "outputs": [
    {
     "name": "stdout",
     "output_type": "stream",
     "text": [
      "     pcost       dcost       gap    pres   dres\n",
      " 0: -1.8416e+01 -7.2164e+02  3e+03  2e+00  7e-16\n",
      " 1: -8.2200e+00 -3.0789e+02  3e+02  5e-02  8e-16\n",
      " 2: -1.9609e+01 -5.4886e+01  4e+01  4e-03  8e-16\n",
      " 3: -2.2767e+01 -3.1361e+01  9e+00  8e-04  5e-16\n",
      " 4: -2.3705e+01 -2.6312e+01  3e+00  2e-04  4e-16\n",
      " 5: -2.4025e+01 -2.5130e+01  1e+00  5e-05  4e-16\n",
      " 6: -2.4209e+01 -2.4467e+01  3e-01  4e-15  4e-16\n",
      " 7: -2.4260e+01 -2.4298e+01  4e-02  4e-15  4e-16\n",
      " 8: -2.4270e+01 -2.4272e+01  2e-03  5e-15  4e-16\n",
      " 9: -2.4271e+01 -2.4271e+01  7e-05  2e-15  4e-16\n",
      "10: -2.4271e+01 -2.4271e+01  2e-06  3e-15  4e-16\n",
      "Optimal solution found.\n",
      "[4.04680070e-08 8.34591914e-03 3.54801644e-09 6.24196862e-09\n",
      " 1.06991316e-01 7.17442149e-09 7.70052795e-09 1.29860568e-07\n",
      " 2.83702902e-09 3.02879754e-02 7.25701007e-02 1.29260513e-07\n",
      " 1.76957142e-01 4.07725204e-09 1.49252278e-04 4.04861279e-09\n",
      " 3.93206394e-09 2.93609295e-01 1.15343750e-01 3.47546792e-09\n",
      " 5.47376105e-09 7.50651888e-02 3.48244915e-09 1.20478376e-07\n",
      " 3.54056134e-01 2.41356917e-09 7.14973563e-02 8.48241054e-02\n",
      " 2.40469492e-01 8.28568601e-03 2.82032233e-09 2.06076643e-08\n",
      " 2.51858910e-01 4.54038472e-09 2.07018682e-08 2.14552483e-01\n",
      " 5.85066350e-09 1.07354865e-01 2.70192608e-08 6.76837599e-09\n",
      " 3.53443104e-02 2.77867806e-08 7.23413612e-02 3.01655813e-09\n",
      " 8.21304274e-01 8.00985810e-09 1.08871864e-01 5.26668209e-09\n",
      " 3.80770991e-02 9.22322733e-03 5.16564553e-09 4.51117353e-02\n",
      " 1.08163110e-08 3.58959586e-02 6.61195535e-09 5.44519184e-02\n",
      " 4.28066841e-08 2.07668622e-02 1.39013125e-08 4.26785712e-09\n",
      " 4.00652999e-09 1.00448217e-01 3.61738815e-09 2.20567965e-09\n",
      " 2.97283392e-09 9.23914777e-02 1.26215390e-01 3.85661475e-09\n",
      " 7.59425288e-02 1.55818013e-01 2.96611566e-09 4.91384172e-02\n",
      " 8.80420956e-09 1.79125064e-08 6.60361188e-09 4.42914160e-09\n",
      " 1.26922148e-01 5.48618957e-09 2.47212455e-01 3.12006062e-09\n",
      " 2.57776924e-02 3.06049455e-01 4.02105459e-09 1.73050155e-01\n",
      " 3.21334674e-01 6.54653406e-06 8.59801807e-09 1.22345960e-01\n",
      " 1.71746000e-01 1.25899102e-08 6.08950370e-03 1.51914915e-01\n",
      " 2.34003597e-02 4.42903901e-09 1.93329304e-01 5.07964659e-09\n",
      " 4.05380605e-09 9.57887923e-09 1.28251268e-08 2.76144795e-01\n",
      " 1.41084330e-08 4.01911753e-08 1.44669472e-08 7.08057296e-09\n",
      " 5.29631370e-02 2.16185173e-08 3.47497276e-09 8.55905851e-03\n",
      " 5.75960867e-09 3.46176534e-09 4.68840572e-02 7.27970010e-09\n",
      " 4.07230145e-08 1.93239537e-01 7.12185669e-01 1.60655159e-01\n",
      " 1.71315757e-02 4.93826570e-09 3.14993091e-08 7.16433577e-01\n",
      " 7.31425095e-09 4.30959082e-09 3.95011758e-01 7.37552838e-02\n",
      " 2.53966936e-09 3.01533209e-09 2.34118214e-08 1.88082089e-08\n",
      " 7.30213416e-09 1.92439689e-09 3.36467777e-09 3.06241253e-09\n",
      " 5.47694974e-09 1.19927554e-01 2.53072366e-02 1.83001863e-01\n",
      " 1.37831545e-01 4.78048102e-02 9.75837295e-08 3.66825643e-09\n",
      " 2.84553574e-09 2.26680880e-09 2.79580340e-09 2.37080012e-01\n",
      " 9.14427801e-02 9.20198388e-02 2.16993515e-09 1.96803012e-01\n",
      " 3.61659654e-09 4.19839439e-08 3.87275553e-02 2.23000917e-01\n",
      " 1.53325370e-08 4.68496614e-09 1.37313317e-01 4.45469569e-08\n",
      " 8.06302632e-09 2.09503914e-07 2.42462709e-02 8.15417831e-09\n",
      " 1.84750702e-01 1.11935855e-01 4.75694379e-09 6.18512514e-02\n",
      " 3.92208608e-09 2.29027086e-01 5.03080038e-09 1.23096888e-07\n",
      " 2.96280581e-01 2.35092537e-01 2.92848220e-09 2.29887572e-01\n",
      " 2.50881550e-09 2.04584129e-01 1.42047623e-02 7.91789732e-02\n",
      " 7.84700134e-02 1.38961728e-01 7.61726244e-02 8.00596172e-02\n",
      " 5.49088626e-02 1.45097462e-01 1.19759876e-03 3.84862759e-09\n",
      " 1.71897496e-01 2.81108031e-01 1.91226661e-01 4.54470834e-09\n",
      " 1.08432348e-08 9.84357098e-09 5.42000502e-09 8.48116583e-02\n",
      " 1.83229851e-08 9.43999999e-01 2.36321870e-09 5.60641732e-02\n",
      " 3.02553334e-09 2.79671923e-01 3.04415864e-09 8.04607669e-09\n",
      " 5.53003301e-03 6.92021671e-01 3.31288115e-09 3.02801219e-01\n",
      " 1.01401519e-01 3.82632481e-09 8.76132420e-02 7.01613966e-02\n",
      " 6.14412291e-07 3.13276199e-01 1.53612819e-07 1.56460599e-08\n",
      " 6.47147427e-09 6.85720857e-02 1.14279646e-01 3.52930229e-01\n",
      " 1.05765588e-01 4.73769992e-09 2.19006369e-06 1.55097423e-08\n",
      " 9.43999996e-01 3.84901167e-09 8.04800168e-09 2.36487583e-09\n",
      " 4.70584135e-09 2.74504401e-01 5.80947312e-02 2.94927485e-09\n",
      " 3.58432186e-09 1.96748828e-01 2.52418275e-01 3.16034233e-03\n",
      " 5.79657960e-02 3.64431345e-09 2.68531798e-01 7.33492021e-02\n",
      " 5.38437176e-09 7.45290952e-02 3.56266872e-01 2.06496323e-09\n",
      " 8.76697764e-02 4.07641633e-09 3.00170088e-09 1.64940483e-06\n",
      " 7.66667793e-02 1.61261344e-02 1.22835165e-01 3.36434535e-09\n",
      " 5.53867746e-09 4.75574516e-08 4.10344577e-02 6.32081083e-09\n",
      " 3.39112397e-09 3.01630773e-09 4.95676928e-02 2.11842995e-09\n",
      " 5.13401298e-09 5.35991718e-02 4.94609712e-09 4.94684893e-09\n",
      " 3.22037432e-09 3.03247981e-09 5.69731948e-09 1.57366464e-08\n",
      " 3.51649781e-02 1.30690234e-08 5.68868558e-09 5.15610936e-09\n",
      " 2.63923970e-09 3.12527757e-09 1.44521516e-01 4.34208906e-02\n",
      " 2.44273645e-01 5.15894497e-09 2.67633934e-07 2.05213071e-01\n",
      " 3.32864445e-09 3.30858996e-09 4.97972254e-09 6.71644742e-02\n",
      " 2.06589374e-08 4.36828902e-09 2.05405003e-08 3.00796887e-09\n",
      " 1.84579807e-08 1.63960895e-01 9.55870128e-02 4.89632692e-09\n",
      " 1.39259010e-02 4.21667396e-09 2.75062316e-09 2.18653308e-01\n",
      " 7.93522760e-02 7.07684471e-09 1.13159080e-01 2.84345511e-09\n",
      " 3.19208646e-09 6.64202843e-03 1.81198910e-01 2.56920398e-09\n",
      " 1.29104428e-08 1.35094056e-01 1.41715520e-08 3.16823319e-09\n",
      " 5.19042041e-03 7.49469235e-09 1.75797131e-01 3.58455657e-09\n",
      " 9.85457405e-02 7.05821818e-09 1.61681868e-01 2.06216203e-02\n",
      " 1.05216401e-01 1.75308376e-08 7.50503298e-09 2.72888240e-03\n",
      " 2.15859677e-09 2.06266240e-09 3.58888880e-09 3.14093624e-02\n",
      " 2.38369942e-09 6.22653469e-09 9.43999991e-01 3.91560207e-09\n",
      " 4.44110214e-08 2.35955804e-09 2.97714376e-02 4.43338399e-09\n",
      " 3.42592405e-09 6.07036249e-09 3.36569796e-09 4.20818131e-02\n",
      " 1.80688166e-01 7.89996999e-02 1.19635782e-04 4.82971880e-09\n",
      " 1.16161623e-08 1.20423242e-08 1.05224577e-01 9.43999978e-01\n",
      " 4.82359222e-02 4.22906204e-02 1.49295003e-08 2.43288505e-01\n",
      " 3.08489474e-01 5.95268819e-09 7.84746452e-02 4.72501009e-07\n",
      " 5.26180141e-08 2.85857239e-01 6.22210105e-02 9.43999999e-01\n",
      " 1.48998890e-08 7.96428120e-02 1.58093176e-08 3.83985861e-09\n",
      " 5.49839391e-01 4.86578618e-09 3.53652574e-09 1.91254227e-08\n",
      " 1.56946180e-01 1.15439311e-01 5.06734573e-09 4.14114116e-09\n",
      " 2.92163861e-01 1.24965798e-01 4.91693138e-09 9.28664875e-09\n",
      " 2.13826178e-01 7.55642689e-09 3.57347523e-09 3.15044892e-09\n",
      " 3.77355687e-03 1.14236993e-08 1.51724942e-08 1.10817191e-01\n",
      " 1.15957077e-01 2.20924334e-01 1.16390125e-02 5.75253063e-09\n",
      " 2.61756372e-01 8.27958055e-09 3.90570252e-09 7.24061070e-02\n",
      " 1.02707384e-01 9.74625293e-02 3.35831329e-02 2.90884766e-09\n",
      " 1.54459556e-01 2.46662783e-09 2.63776800e-09 3.32163063e-09\n",
      " 1.92189334e-09 2.84671100e-09 2.90535284e-09 7.19215502e-02\n",
      " 1.46273288e-01 3.73890345e-07 4.75169790e-09 5.86498849e-02\n",
      " 3.48434070e-09 4.44755929e-09 1.36946680e-01 4.72612146e-09\n",
      " 3.82048340e-02 8.72926877e-09 1.31866161e-08 9.54838625e-02\n",
      " 1.79137480e-01 6.96556137e-02 7.28435635e-02 4.43347452e-09\n",
      " 1.91912915e-08 2.50341247e-09 1.09136334e-01 5.85544187e-02\n",
      " 7.03079446e-01 6.49470803e-08 5.95870575e-01 8.12534427e-02\n",
      " 4.91937951e-09 2.64619782e-09 1.88164983e-02 2.49663410e-09\n",
      " 4.16073657e-02 8.95282353e-02 3.50914098e-09 6.38379491e-09\n",
      " 1.53069305e-01 2.47094488e-09 5.80178596e-08 5.93268237e-02\n",
      " 1.44055159e-01 3.27951984e-09 2.06876861e-01 2.84353368e-09\n",
      " 2.23579489e-02 1.03778279e-01 1.38967872e-08 2.68007438e-02\n",
      " 9.43999994e-01 1.39221652e-08 4.94564949e-09 2.27535884e-09\n",
      " 8.17337373e-01 1.65163770e-01 3.31750261e-09 2.96440186e-09\n",
      " 1.34548601e-01 4.43198766e-09 5.87300307e-02 1.17197244e-01\n",
      " 3.48111644e-02 1.43184647e-01 1.11860449e-01 9.79679075e-02\n",
      " 2.29564123e-01 3.50874230e-01 1.85883898e-09 5.51333417e-02\n",
      " 1.35668545e-08 8.38374817e-09 5.13472971e-09 3.54353286e-09\n",
      " 6.36302565e-08 8.24604433e-09 7.04454221e-02 3.77794012e-02\n",
      " 1.87838504e-03 1.02271540e-01 3.13267582e-09 2.83822869e-09\n",
      " 2.42931435e-09 5.15467721e-09 3.41008900e-09 4.48639564e-09\n",
      " 4.94319655e-02 9.18141474e-09 5.11514509e-09 6.10460060e-03\n",
      " 2.35341462e-09 6.22054548e-01 2.17107849e-01 2.75923049e-09\n",
      " 4.49490572e-09 3.56995682e-02 1.02371341e-02 4.40494927e-09\n",
      " 4.43145633e-01 5.54647481e-09 8.63062733e-02 3.71409295e-02\n",
      " 4.73236571e-07 5.05442650e-04 2.24804199e-08 3.16978315e-02\n",
      " 5.06237661e-01 8.92317115e-01 7.12049326e-09 2.22435571e-02\n",
      " 3.71808327e-09 3.78136444e-09 3.62197506e-09 1.21256452e-01\n",
      " 5.28811093e-09 6.74043342e-09 1.77070485e-01 2.41815605e-09\n",
      " 9.07516985e-02 2.40235277e-09 7.26663783e-09 1.47448623e-09\n",
      " 9.43999992e-01 6.94071740e-09 5.81463157e-02 4.60319321e-09\n",
      " 4.70330628e-01 7.09404280e-09 3.35314274e-09 1.37212744e-01\n",
      " 2.91569237e-09 7.44057164e-02 4.12837317e-09 1.31429759e-08\n",
      " 8.25316012e-02 2.47910235e-08 9.48794545e-09 3.94357374e-08\n",
      " 5.44656788e-09 3.11867488e-04 1.01907233e-01 1.97397540e-08\n",
      " 1.58911658e-01 4.19852224e-02 9.08281947e-02 3.02303749e-01\n",
      " 9.01265612e-02 9.43999892e-01 3.46426045e-09 5.21776680e-04\n",
      " 5.74765443e-09 4.02982091e-09 3.30802608e-01 3.31980308e-09\n",
      " 5.33729284e-09 7.39026350e-07 2.97109158e-09 9.08011835e-09\n",
      " 2.97479352e-01 3.62184223e-09 3.07176941e-01 2.76763196e-08\n",
      " 2.23441697e-09 7.10858351e-09 8.25780374e-09 9.43999990e-01\n",
      " 2.78099165e-08 7.49756450e-02 2.03574865e-01 2.04146904e-01\n",
      " 2.99336710e-09 1.13391964e-01 8.65625414e-01 1.21362215e-08\n",
      " 9.80109988e-09 5.90127173e-09 3.20677919e-09 4.50792786e-09\n",
      " 2.42684082e-09 3.34138172e-09 2.83308736e-01 1.23387272e-01\n",
      " 2.60291464e-09 2.71599988e-09 4.87008240e-09 5.06098756e-09\n",
      " 5.21519388e-09 3.27646936e-09 4.84581644e-09 5.45471973e-09\n",
      " 9.68524531e-02 2.98007773e-09 1.05015027e-01 3.86113949e-09\n",
      " 3.12057257e-09 2.83320296e-09 3.22337055e-09 2.26221953e-04\n",
      " 2.53106549e-01 8.57850921e-09 3.27075461e-09 4.87140284e-03\n",
      " 6.11376224e-09 8.11733801e-09 1.72308011e-08 3.72687243e-09\n",
      " 1.30507464e-01 4.37944702e-09 1.70021255e-01 4.39343520e-09]\n"
     ]
    }
   ],
   "source": [
    "solution=cvxopt.solvers.qp(P,q,G,h,A,b)\n",
    "a=np.ravel(solution['x']) #Lagrange Multipliers\n",
    "print(a)"
   ]
  },
  {
   "cell_type": "code",
   "execution_count": 8,
   "metadata": {},
   "outputs": [],
   "source": [
    "sv=a > 1e-5 #Support Vectors\n",
    "sv_a=a[sv]\n",
    "sv_x=x[sv]\n",
    "t=np.array(t,dtype=int)\n",
    "sv_t=t[sv]\n",
    "sv_index=np.arange(len(a))[sv]"
   ]
  },
  {
   "cell_type": "code",
   "execution_count": 9,
   "metadata": {},
   "outputs": [
    {
     "name": "stdout",
     "output_type": "stream",
     "text": [
      "0.6329107924674614\n"
     ]
    }
   ],
   "source": [
    "intercept=0\n",
    "for i in range(len(sv_a)):\n",
    "    intercept+=sv_t[i]\n",
    "    temp=0\n",
    "    for j in range(len(sv_a)):\n",
    "        temp+=sv_t[j]*sv_a[j]*K[sv_index[i],sv_index[j]]\n",
    "    intercept-=temp \n",
    "intercept/=len(sv_a)\n",
    "print(intercept)"
   ]
  },
  {
   "cell_type": "code",
   "execution_count": 11,
   "metadata": {},
   "outputs": [
    {
     "data": {
      "text/plain": [
       "(270,)"
      ]
     },
     "execution_count": 11,
     "metadata": {},
     "output_type": "execute_result"
    }
   ],
   "source": [
    "sv_index.shape"
   ]
  },
  {
   "cell_type": "code",
   "execution_count": 12,
   "metadata": {},
   "outputs": [],
   "source": [
    "y_pred=np.zeros(len(x))\n",
    "for i in range(len(x)):\n",
    "    s=0\n",
    "    for j in range(len(sv_a)):\n",
    "        s+=sv_a[j]*sv_t[j]*K[i,sv_index[j]]\n",
    "    y_pred[i]=s\n",
    "y_pred+=intercept\n",
    "y_pred=np.sign(y_pred) #Prediction on given data set"
   ]
  },
  {
   "cell_type": "code",
   "execution_count": 14,
   "metadata": {},
   "outputs": [
    {
     "data": {
      "text/plain": [
       "1.0"
      ]
     },
     "execution_count": 14,
     "metadata": {},
     "output_type": "execute_result"
    }
   ],
   "source": [
    "accuracy(y_pred,t)"
   ]
  },
  {
   "cell_type": "markdown",
   "metadata": {},
   "source": []
  }
 ],
 "metadata": {
  "kernelspec": {
   "display_name": "Python 3",
   "language": "python",
   "name": "python3"
  },
  "language_info": {
   "codemirror_mode": {
    "name": "ipython",
    "version": 3
   },
   "file_extension": ".py",
   "mimetype": "text/x-python",
   "name": "python",
   "nbconvert_exporter": "python",
   "pygments_lexer": "ipython3",
   "version": "3.6.8"
  }
 },
 "nbformat": 4,
 "nbformat_minor": 2
}
